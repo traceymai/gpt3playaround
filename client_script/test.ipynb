{
 "metadata": {
  "language_info": {
   "codemirror_mode": {
    "name": "ipython",
    "version": 3
   },
   "file_extension": ".py",
   "mimetype": "text/x-python",
   "name": "python",
   "nbconvert_exporter": "python",
   "pygments_lexer": "ipython3",
   "version": "3.8.5-final"
  },
  "orig_nbformat": 2,
  "kernelspec": {
   "name": "python3",
   "display_name": "Python 3",
   "language": "python"
  }
 },
 "nbformat": 4,
 "nbformat_minor": 2,
 "cells": [
  {
   "cell_type": "code",
   "execution_count": 14,
   "metadata": {},
   "outputs": [],
   "source": [
    "import pandas as pd\n",
    "from gpt3pipe import clean_text"
   ]
  },
  {
   "cell_type": "code",
   "execution_count": 7,
   "metadata": {},
   "outputs": [],
   "source": [
    "df = pd.read_csv(\"teahslabels.csv\", header = 0, encoding = \"utf8\")"
   ]
  },
  {
   "cell_type": "code",
   "execution_count": 8,
   "metadata": {},
   "outputs": [
    {
     "output_type": "execute_result",
     "data": {
      "text/plain": [
       "array(['#', 'SVM', 'SVM.1', 'Natural Validation', 'ServRep Validation',\n",
       "       'Unnamed: 5', 'metatag', 'Client Script', 'DIT / Dialog Act',\n",
       "       'Organic Study Pose'], dtype=object)"
      ]
     },
     "metadata": {},
     "execution_count": 8
    }
   ],
   "source": [
    "df.columns.values"
   ]
  },
  {
   "cell_type": "code",
   "execution_count": 10,
   "metadata": {},
   "outputs": [],
   "source": [
    "df.drop(columns = [\"#\", \"SVM.1\", 'Unnamed: 5', 'metatag', 'DIT / Dialog Act', 'Organic Study Pose'], inplace = True)"
   ]
  },
  {
   "cell_type": "code",
   "execution_count": 12,
   "metadata": {},
   "outputs": [],
   "source": [
    "df.columns = [\"SVM_label\", \"Natural_Validation_Label\", \"ServRep_Validation_Label\", \"Phrase_text\"]"
   ]
  },
  {
   "cell_type": "code",
   "execution_count": 13,
   "metadata": {},
   "outputs": [
    {
     "output_type": "execute_result",
     "data": {
      "text/plain": [
       "  SVM_label Natural_Validation_Label ServRep_Validation_Label  \\\n",
       "0  negative                 negative                 negative   \n",
       "1  negative                 negative                 negative   \n",
       "2  negative                 negative                 negative   \n",
       "3  negative                 negative                 negative   \n",
       "4  negative                 negative                 negative   \n",
       "\n",
       "                           Phrase_text  \n",
       "0            Sorry I don't understand.  \n",
       "1  Sorry but I didn't understand that.  \n",
       "2           I'm so sorry to hear that.  \n",
       "3         still didn't quite get that.  \n",
       "4                         Sorry Shaun.  "
      ],
      "text/html": "<div>\n<style scoped>\n    .dataframe tbody tr th:only-of-type {\n        vertical-align: middle;\n    }\n\n    .dataframe tbody tr th {\n        vertical-align: top;\n    }\n\n    .dataframe thead th {\n        text-align: right;\n    }\n</style>\n<table border=\"1\" class=\"dataframe\">\n  <thead>\n    <tr style=\"text-align: right;\">\n      <th></th>\n      <th>SVM_label</th>\n      <th>Natural_Validation_Label</th>\n      <th>ServRep_Validation_Label</th>\n      <th>Phrase_text</th>\n    </tr>\n  </thead>\n  <tbody>\n    <tr>\n      <th>0</th>\n      <td>negative</td>\n      <td>negative</td>\n      <td>negative</td>\n      <td>Sorry I don't understand.</td>\n    </tr>\n    <tr>\n      <th>1</th>\n      <td>negative</td>\n      <td>negative</td>\n      <td>negative</td>\n      <td>Sorry but I didn't understand that.</td>\n    </tr>\n    <tr>\n      <th>2</th>\n      <td>negative</td>\n      <td>negative</td>\n      <td>negative</td>\n      <td>I'm so sorry to hear that.</td>\n    </tr>\n    <tr>\n      <th>3</th>\n      <td>negative</td>\n      <td>negative</td>\n      <td>negative</td>\n      <td>still didn't quite get that.</td>\n    </tr>\n    <tr>\n      <th>4</th>\n      <td>negative</td>\n      <td>negative</td>\n      <td>negative</td>\n      <td>Sorry Shaun.</td>\n    </tr>\n  </tbody>\n</table>\n</div>"
     },
     "metadata": {},
     "execution_count": 13
    }
   ],
   "source": [
    "df.head()"
   ]
  },
  {
   "cell_type": "code",
   "execution_count": 15,
   "metadata": {},
   "outputs": [
    {
     "output_type": "execute_result",
     "data": {
      "text/plain": [
       "    SVM_label Natural_Validation_Label ServRep_Validation_Label  \\\n",
       "0    negative                 negative                 negative   \n",
       "1    negative                 negative                 negative   \n",
       "2    negative                 negative                 negative   \n",
       "3    negative                 negative                 negative   \n",
       "4    negative                 negative                 negative   \n",
       "..        ...                      ...                      ...   \n",
       "495   neutral                  neutral                 positive   \n",
       "496   neutral                  neutral                 positive   \n",
       "497  negative                  neutral                 positive   \n",
       "498  negative                 negative                 positive   \n",
       "499  negative                 negative                 positive   \n",
       "\n",
       "                                           Phrase_text  \n",
       "0                            Sorry I don't understand.  \n",
       "1                  Sorry but I didn't understand that.  \n",
       "2                           I'm so sorry to hear that.  \n",
       "3                         still didn't quite get that.  \n",
       "4                                         Sorry Shaun.  \n",
       "..                                                 ...  \n",
       "495  I can explain how to log in and set or change ...  \n",
       "496  Alternatively if you would rather speak with a...  \n",
       "497  if you're not receiving any income at all just...  \n",
       "498  If you don't like the idea of a face looking a...  \n",
       "499            If you're suffering financial hardship.  \n",
       "\n",
       "[500 rows x 4 columns]"
      ],
      "text/html": "<div>\n<style scoped>\n    .dataframe tbody tr th:only-of-type {\n        vertical-align: middle;\n    }\n\n    .dataframe tbody tr th {\n        vertical-align: top;\n    }\n\n    .dataframe thead th {\n        text-align: right;\n    }\n</style>\n<table border=\"1\" class=\"dataframe\">\n  <thead>\n    <tr style=\"text-align: right;\">\n      <th></th>\n      <th>SVM_label</th>\n      <th>Natural_Validation_Label</th>\n      <th>ServRep_Validation_Label</th>\n      <th>Phrase_text</th>\n    </tr>\n  </thead>\n  <tbody>\n    <tr>\n      <th>0</th>\n      <td>negative</td>\n      <td>negative</td>\n      <td>negative</td>\n      <td>Sorry I don't understand.</td>\n    </tr>\n    <tr>\n      <th>1</th>\n      <td>negative</td>\n      <td>negative</td>\n      <td>negative</td>\n      <td>Sorry but I didn't understand that.</td>\n    </tr>\n    <tr>\n      <th>2</th>\n      <td>negative</td>\n      <td>negative</td>\n      <td>negative</td>\n      <td>I'm so sorry to hear that.</td>\n    </tr>\n    <tr>\n      <th>3</th>\n      <td>negative</td>\n      <td>negative</td>\n      <td>negative</td>\n      <td>still didn't quite get that.</td>\n    </tr>\n    <tr>\n      <th>4</th>\n      <td>negative</td>\n      <td>negative</td>\n      <td>negative</td>\n      <td>Sorry Shaun.</td>\n    </tr>\n    <tr>\n      <th>...</th>\n      <td>...</td>\n      <td>...</td>\n      <td>...</td>\n      <td>...</td>\n    </tr>\n    <tr>\n      <th>495</th>\n      <td>neutral</td>\n      <td>neutral</td>\n      <td>positive</td>\n      <td>I can explain how to log in and set or change ...</td>\n    </tr>\n    <tr>\n      <th>496</th>\n      <td>neutral</td>\n      <td>neutral</td>\n      <td>positive</td>\n      <td>Alternatively if you would rather speak with a...</td>\n    </tr>\n    <tr>\n      <th>497</th>\n      <td>negative</td>\n      <td>neutral</td>\n      <td>positive</td>\n      <td>if you're not receiving any income at all just...</td>\n    </tr>\n    <tr>\n      <th>498</th>\n      <td>negative</td>\n      <td>negative</td>\n      <td>positive</td>\n      <td>If you don't like the idea of a face looking a...</td>\n    </tr>\n    <tr>\n      <th>499</th>\n      <td>negative</td>\n      <td>negative</td>\n      <td>positive</td>\n      <td>If you're suffering financial hardship.</td>\n    </tr>\n  </tbody>\n</table>\n<p>500 rows × 4 columns</p>\n</div>"
     },
     "metadata": {},
     "execution_count": 15
    }
   ],
   "source": [
    "clean_text(df)"
   ]
  },
  {
   "cell_type": "code",
   "execution_count": 16,
   "metadata": {},
   "outputs": [
    {
     "output_type": "execute_result",
     "data": {
      "text/plain": [
       "True"
      ]
     },
     "metadata": {},
     "execution_count": 16
    }
   ],
   "source": [
    "\"neutral\" in \"neutral/positive\""
   ]
  },
  {
   "cell_type": "code",
   "execution_count": 17,
   "metadata": {},
   "outputs": [
    {
     "output_type": "execute_result",
     "data": {
      "text/plain": [
       "True"
      ]
     },
     "metadata": {},
     "execution_count": 17
    }
   ],
   "source": [
    "\"positive\" in \"positive\""
   ]
  },
  {
   "cell_type": "code",
   "execution_count": 40,
   "metadata": {},
   "outputs": [],
   "source": [
    "col_a = [\"Hello\", \"My name is\", \"OK\"]\n",
    "col_b = [\"Hello there\", \"Tracey\", \"OKKKK\"]\n",
    "test_df = pd.DataFrame({\"a\": col_a, \"b\": col_b})"
   ]
  },
  {
   "cell_type": "code",
   "execution_count": 41,
   "metadata": {},
   "outputs": [],
   "source": [
    "test_df['c'] = np.zeros(shape = test_df.shape[0], dtype = np.int8)"
   ]
  },
  {
   "cell_type": "code",
   "execution_count": 50,
   "metadata": {},
   "outputs": [
    {
     "output_type": "execute_result",
     "data": {
      "text/plain": [
       "2"
      ]
     },
     "metadata": {},
     "execution_count": 50
    }
   ],
   "source": [
    "test_df.shape[0]"
   ]
  },
  {
   "cell_type": "code",
   "execution_count": 23,
   "metadata": {},
   "outputs": [],
   "source": [
    "import numpy as np"
   ]
  },
  {
   "cell_type": "code",
   "execution_count": 43,
   "metadata": {},
   "outputs": [
    {
     "output_type": "execute_result",
     "data": {
      "text/plain": [
       "0    0\n",
       "1    0\n",
       "Name: c, dtype: int8"
      ]
     },
     "metadata": {},
     "execution_count": 43
    }
   ],
   "source": [
    "test_df['c']"
   ]
  },
  {
   "cell_type": "code",
   "execution_count": 44,
   "metadata": {},
   "outputs": [],
   "source": [
    "for i in range(test_df.shape[0]):\n",
    "    test_df.loc[i, \"c\"] = (test_df['a'][i] in test_df['b'][i])"
   ]
  },
  {
   "cell_type": "code",
   "execution_count": 46,
   "metadata": {},
   "outputs": [
    {
     "output_type": "execute_result",
     "data": {
      "text/plain": [
       "            a            b      c\n",
       "0       Hello  Hello there   True\n",
       "1  My name is       Tracey  False"
      ],
      "text/html": "<div>\n<style scoped>\n    .dataframe tbody tr th:only-of-type {\n        vertical-align: middle;\n    }\n\n    .dataframe tbody tr th {\n        vertical-align: top;\n    }\n\n    .dataframe thead th {\n        text-align: right;\n    }\n</style>\n<table border=\"1\" class=\"dataframe\">\n  <thead>\n    <tr style=\"text-align: right;\">\n      <th></th>\n      <th>a</th>\n      <th>b</th>\n      <th>c</th>\n    </tr>\n  </thead>\n  <tbody>\n    <tr>\n      <th>0</th>\n      <td>Hello</td>\n      <td>Hello there</td>\n      <td>True</td>\n    </tr>\n    <tr>\n      <th>1</th>\n      <td>My name is</td>\n      <td>Tracey</td>\n      <td>False</td>\n    </tr>\n  </tbody>\n</table>\n</div>"
     },
     "metadata": {},
     "execution_count": 46
    }
   ],
   "source": [
    "test_df"
   ]
  },
  {
   "cell_type": "code",
   "execution_count": 47,
   "metadata": {},
   "outputs": [],
   "source": [
    "test_df['c'] = test_df['c'].astype(int)"
   ]
  },
  {
   "cell_type": "code",
   "execution_count": 48,
   "metadata": {},
   "outputs": [
    {
     "output_type": "execute_result",
     "data": {
      "text/plain": [
       "            a            b  c\n",
       "0       Hello  Hello there  1\n",
       "1  My name is       Tracey  0"
      ],
      "text/html": "<div>\n<style scoped>\n    .dataframe tbody tr th:only-of-type {\n        vertical-align: middle;\n    }\n\n    .dataframe tbody tr th {\n        vertical-align: top;\n    }\n\n    .dataframe thead th {\n        text-align: right;\n    }\n</style>\n<table border=\"1\" class=\"dataframe\">\n  <thead>\n    <tr style=\"text-align: right;\">\n      <th></th>\n      <th>a</th>\n      <th>b</th>\n      <th>c</th>\n    </tr>\n  </thead>\n  <tbody>\n    <tr>\n      <th>0</th>\n      <td>Hello</td>\n      <td>Hello there</td>\n      <td>1</td>\n    </tr>\n    <tr>\n      <th>1</th>\n      <td>My name is</td>\n      <td>Tracey</td>\n      <td>0</td>\n    </tr>\n  </tbody>\n</table>\n</div>"
     },
     "metadata": {},
     "execution_count": 48
    }
   ],
   "source": [
    "test_df"
   ]
  },
  {
   "cell_type": "code",
   "execution_count": null,
   "metadata": {},
   "outputs": [],
   "source": []
  }
 ]
}