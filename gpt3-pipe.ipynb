{
 "metadata": {
  "language_info": {
   "codemirror_mode": {
    "name": "ipython",
    "version": 3
   },
   "file_extension": ".py",
   "mimetype": "text/x-python",
   "name": "python",
   "nbconvert_exporter": "python",
   "pygments_lexer": "ipython3",
   "version": "3.8.5-final"
  },
  "orig_nbformat": 2,
  "kernelspec": {
   "name": "python3",
   "display_name": "Python 3",
   "language": "python"
  }
 },
 "nbformat": 4,
 "nbformat_minor": 2,
 "cells": [
  {
   "cell_type": "code",
   "execution_count": 1,
   "metadata": {},
   "outputs": [
    {
     "output_type": "stream",
     "name": "stdout",
     "text": [
      "Collecting openai\n  Downloading openai-0.2.6.tar.gz (157 kB)\nRequirement already satisfied: requests>=2.20 in c:\\users\\tracey.mai\\anaconda3\\lib\\site-packages (from openai) (2.24.0)\nRequirement already satisfied: chardet<4,>=3.0.2 in c:\\users\\tracey.mai\\anaconda3\\lib\\site-packages (from requests>=2.20->openai) (3.0.4)\nRequirement already satisfied: urllib3!=1.25.0,!=1.25.1,<1.26,>=1.21.1 in c:\\users\\tracey.mai\\anaconda3\\lib\\site-packages (from requests>=2.20->openai) (1.25.11)\nRequirement already satisfied: idna<3,>=2.5 in c:\\users\\tracey.mai\\anaconda3\\lib\\site-packages (from requests>=2.20->openai) (2.10)\nRequirement already satisfied: certifi>=2017.4.17 in c:\\users\\tracey.mai\\anaconda3\\lib\\site-packages (from requests>=2.20->openai) (2020.6.20)\nBuilding wheels for collected packages: openai\n  Building wheel for openai (setup.py): started\n  Building wheel for openai (setup.py): finished with status 'done'\n  Created wheel for openai: filename=openai-0.2.6-py3-none-any.whl size=170809 sha256=f8412ee4c673374a5ff4566a16cd132b84e234dfebffae9b65707de1d43d4df0\n  Stored in directory: c:\\users\\tracey.mai\\appdata\\local\\pip\\cache\\wheels\\df\\31\\0b\\a633aa892186dfda91d4cd4d37b86ff6fc2be8541e2647a12b\nSuccessfully built openai\nInstalling collected packages: openai\nSuccessfully installed openai-0.2.6\n"
     ]
    }
   ],
   "source": [
    "!pip install openai"
   ]
  },
  {
   "cell_type": "code",
   "execution_count": 2,
   "metadata": {},
   "outputs": [],
   "source": [
    "import json\n",
    "import openai"
   ]
  },
  {
   "cell_type": "code",
   "execution_count": 4,
   "metadata": {},
   "outputs": [],
   "source": [
    "from gpt import GPT\n",
    "from gpt import Example"
   ]
  },
  {
   "cell_type": "code",
   "execution_count": 5,
   "metadata": {},
   "outputs": [],
   "source": [
    "gpt = GPT(engine = \"davinci\", temperature = 0.5, max_tokens = 100)"
   ]
  },
  {
   "cell_type": "code",
   "execution_count": 13,
   "metadata": {},
   "outputs": [],
   "source": [
    "def transform_txt(filename):\n",
    "    f = open(filename, \"r\")\n",
    "    input_f = f.readlines()\n",
    "    input_f = [instance.strip(\"\\n\") for instance in input_f]\n",
    "    input_dict = {}\n",
    "    for i in range(len(input_f)):\n",
    "        each_instance = input_f[i].split(\",\")\n",
    "        sentiment_score, input_sentence = (float(each_instance[0]), each_instance[1])\n",
    "        if sentiment_score == 0: # The sentence is neutral\n",
    "            output_sentence = \"neutral\"\n",
    "        elif sentiment_score == 1: # The sentence is positive\n",
    "            output_sentence = \"positive\"\n",
    "        elif sentiment_score == -1: # The sentence is negative\n",
    "            output_sentence = \"negative\"\n",
    "        \n",
    "\n",
    "    "
   ]
  },
  {
   "cell_type": "code",
   "execution_count": 11,
   "metadata": {},
   "outputs": [
    {
     "output_type": "stream",
     "name": "stdout",
     "text": [
      "['0.0,we are going to be', '0.0,we are digital people, digital humans if you like to call us that', '0.0,we are developing autonomous animation', '0.0,we are at', '0.0,watermelon is a fruit', '0.0,watching the hills follow upp.', '0.0,watching james brown', '0.0,watching cheer on netflix.', '0.0,watching Addams Family Values', '0.0,what link', '0.0,what is your purpose', '0.0,what is your job description as a customer service agent', '0.0,what is this', '0.0,what is the number', '0.0,what is the meaning of life', '0.0,what is the human operating system', '0.0,what is the digital brain', '0.0,what is soul machines doing', '0.0,what is sewing machines created digital DNA', '0.0,what is pink great talking I have to go now bye', \"0.0,what's your favourite animal\", \"0.0,what's what's your purpose what's your purpose in life\", \"0.0,what's this\", \"0.0,what's the weather like DATE\", \"0.0,what's the weather\", \"0.0,what's the top 1\", \"0.0,what's the time over again this\", \"0.0,what's the technology tour\", \"0.0,what's the rain like how much\", \"0.0,what's the most popular question\", \"0.0,what's the let's talk about sec\", '0.0,these guys', \"0.0,there's no acceleration expiries\", \"0.0,there'll be no skyping today\", '0.0,there are many boats parking in the harbor', '0.0,there are forms you can use to request a call back', '0.0,there are birds sitting on roof', '0.0,there are a lot of free stuff anyway.', '0.0,thenn schoool.', '0.0,then you gotta know you up from you not', '0.0,soulwax', '0.0,sorry about that can you hear me now', \"0.0,sorry I missed your tweet. It's currently 12:24 in the afternoon here in the UK\", '0.0,sopes', '0.0,soo hungry.', '0.0,soo hungry. when is dindins?', '0.0,sometimes', '0.0,sometime', '0.0,something about', '0.0,something', '0.0,some of the', '0.0,soldiers', '0.0,sodalite', '0.0,soaking in bleach.', \"0.0,so you can just passing the list of animations to run and it'll just queue up the other\", '0.0,purpose', '0.0,punters.', '0.0,probably want to see that sup', '0.0,probably ok ebay the best', '0.0,prefer', '0.0,praying for bad weather', \"0.0,possibly even 5. We'll see though.\", '0.0,popsockets', '0.0,pop', '0.0,poem about pigs?', '0.0,pls answer mee', \"0.0,please don't wear pink that's for Jenson's Dad\", '0.0,my fridge is from fisher and paykel', '0.0,my brudder graduates today', '0.0,my birthday is november fifth 1987', '0.0,my account number is 123 456 789', '0.0,my HR# was 210 and this is my 210th update.', '0.0,multiple tweets in one! pulling a @justkristi are you?', '0.0,mud spa first time', '0.0,morning, how is it going', \"0.0,isn't three months they can have this up and running by PERSON_NAME in preparation for that ICD Brookfield\", \"0.0,isn't a different model for [NAME]?\", '0.0,is watching Beverly Hills 90210', '0.0,is waiting in for UPS', \"0.0,is thinking how much earlier do I have to go to wor tomorrow to catch up on last weeks stuff and today's bookings? So so busy\"]\n"
     ]
    }
   ],
   "source": []
  },
  {
   "cell_type": "code",
   "execution_count": null,
   "metadata": {},
   "outputs": [],
   "source": []
  }
 ]
}