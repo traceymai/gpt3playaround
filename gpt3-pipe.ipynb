{
 "metadata": {
  "language_info": {
   "codemirror_mode": {
    "name": "ipython",
    "version": 3
   },
   "file_extension": ".py",
   "mimetype": "text/x-python",
   "name": "python",
   "nbconvert_exporter": "python",
   "pygments_lexer": "ipython3",
   "version": "3.8.5-final"
  },
  "orig_nbformat": 2,
  "kernelspec": {
   "name": "python3",
   "display_name": "Python 3",
   "language": "python"
  }
 },
 "nbformat": 4,
 "nbformat_minor": 2,
 "cells": [
  {
   "cell_type": "code",
   "execution_count": 1,
   "metadata": {},
   "outputs": [
    {
     "output_type": "stream",
     "name": "stdout",
     "text": [
      "Requirement already satisfied: openai in c:\\users\\tracey.mai\\anaconda3\\lib\\site-packages (0.2.6)\nRequirement already satisfied: requests>=2.20; python_version >= \"3.0\" in c:\\users\\tracey.mai\\anaconda3\\lib\\site-packages (from openai) (2.24.0)\nRequirement already satisfied: urllib3!=1.25.0,!=1.25.1,<1.26,>=1.21.1 in c:\\users\\tracey.mai\\anaconda3\\lib\\site-packages (from requests>=2.20; python_version >= \"3.0\"->openai) (1.25.11)\nRequirement already satisfied: chardet<4,>=3.0.2 in c:\\users\\tracey.mai\\anaconda3\\lib\\site-packages (from requests>=2.20; python_version >= \"3.0\"->openai) (3.0.4)\nRequirement already satisfied: certifi>=2017.4.17 in c:\\users\\tracey.mai\\anaconda3\\lib\\site-packages (from requests>=2.20; python_version >= \"3.0\"->openai) (2020.6.20)\nRequirement already satisfied: idna<3,>=2.5 in c:\\users\\tracey.mai\\anaconda3\\lib\\site-packages (from requests>=2.20; python_version >= \"3.0\"->openai) (2.10)\n"
     ]
    }
   ],
   "source": [
    "!pip install openai"
   ]
  },
  {
   "cell_type": "code",
   "execution_count": 2,
   "metadata": {},
   "outputs": [],
   "source": [
    "import json\n",
    "import openai"
   ]
  },
  {
   "cell_type": "code",
   "execution_count": 3,
   "metadata": {},
   "outputs": [],
   "source": [
    "with open('GPT_SECRET_KEY.json') as f:\n",
    "    data = json.load(f)\n",
    "openai.api_key = data[\"API_KEY\"]"
   ]
  },
  {
   "cell_type": "code",
   "execution_count": 4,
   "metadata": {},
   "outputs": [],
   "source": [
    "from gpt import GPT\n",
    "from gpt import Example\n",
    "import numpy as np"
   ]
  },
  {
   "cell_type": "code",
   "execution_count": 5,
   "metadata": {},
   "outputs": [],
   "source": [
    "gpt = GPT(engine = \"davinci\", temperature = 0.5, max_tokens = 100, output_prefix = \"output (positive/neutral/negative):\")"
   ]
  },
  {
   "cell_type": "code",
   "execution_count": 6,
   "metadata": {},
   "outputs": [],
   "source": [
    "def change_labels(num):\n",
    "    if num == 1:\n",
    "        return \"positive\"\n",
    "    elif num == 0:\n",
    "        return \"neutral\"\n",
    "    elif num == -1:\n",
    "        return \"negative\""
   ]
  },
  {
   "cell_type": "code",
   "execution_count": 7,
   "metadata": {},
   "outputs": [],
   "source": [
    "import pandas as pd\n",
    "def transform_txt(filename, n): # n is the number of input instances wanted for each sentiment category\n",
    "    \"\"\"\n",
    "    This function reads input sentences and associated sentiments \n",
    "    \"\"\"\n",
    "    # reading text filename into a Dataframe\n",
    "    data = pd.read_csv(filename, header = 0, encoding = \"utf8\", sep = \":->\")\n",
    "    df_used = data.groupby('Sentiment_class_label').head(n).reset_index(drop = True)\n",
    "    df_used['Sentiment_class_label'] = df_used['Sentiment_class_label'].apply(lambda x: change_labels(x))\n",
    "    return df_used\n",
    "    "
   ]
  },
  {
   "cell_type": "code",
   "execution_count": 8,
   "metadata": {
    "tags": []
   },
   "outputs": [
    {
     "output_type": "stream",
     "name": "stdout",
     "text": [
      "   Sentiment_class_label                                        Phrase_text\n0               positive                   “kindness and compassion” [NAME]\n1               positive  “That’s also cute” I say as I look at the 5k i...\n2               positive  “I have no experience being mean” is probably ...\n3               positive  “I am on the verge of exploding in my pants” “...\n4               positive                                “Enjoy your dinner”\n5               positive  “But [NAME] helped the Browns win more games t...\n6               positive                                               zeal\n7               positive                                           youthful\n8               positive                               youre awesome buddy!\n9               positive                            your voice is beautiful\n10              positive                            your vehicle is pretty!\n11              positive                                     your beautiful\n12              positive                                    you're very fun\n13              positive                                    you're so smart\n14              positive                                    you're so funny\n15              positive                           you're so down to earth.\n16              positive                                       you're smart\n17              positive  you're pretty much amazing. your music is craz...\n18              positive                   you're personality is so bubbly.\n19              positive                        you're perfectly imperfect.\n20               neutral  “Tonight” begins as an earnest hymn, with Elto...\n21               neutral  “My Own Dance” sums up where Kesha’s head is a...\n22               neutral            “Legal” and “real” are different words.\n23               neutral  “Honey” is a little laid-back guitar R&B in th...\n24               neutral  “An eye for an eye” Proceeds to take 2 things ...\n25               neutral                                               £141\n26               neutral                                               zoom\n27               neutral                                       your joke is\n28               neutral          your bank account is now fully functional\n29               neutral                                     your Neighbour\n30               neutral                                             you? x\n31               neutral  you're supposed to wait for the punchline of a...\n32               neutral                       you're onnnn. talk sistahhh.\n33               neutral                                   you're dead mate\n34               neutral  you'd think more shows would use music from th...\n35               neutral                         you win the internet today\n36               neutral  you want to call me like another half an hour ...\n37               neutral                                 you owe us 100 nzd\n38               neutral                              you might to LOCATION\n39               neutral                                      you me at sk2\n40              negative  “Inside sources” really don’t help the story e...\n41              negative          АliExpress bullsнit liar and fake seller!\n42              negative                                             zombie\n43              negative                                                zap\n44              negative                                   yup, very scared\n45              negative                                         yup, upset\n46              negative  yup - he threw [NAME] under the bus with no guilt\n47              negative                                              yucky\n48              negative              your mom looks like a gigantic banana\n49              negative  your engaging comversations sound more like sc...\n50              negative           your are just as dumb as your dumb voice\n51              negative  you've showed me a happy dog but now it's a sa...\n52              negative  you're the reason this country has to put dire...\n53              negative        you're taking a long time which is annoying\n54              negative                                      you're stupid\n55              negative  you're sort of also worried about the danger o...\n56              negative        you're sorry I think hey hey do you hear me\n57              negative                                     you're so rude\n58              negative                                you're simply crap.\n59              negative                                 you're pretty ugly\n"
     ]
    }
   ],
   "source": [
    "df_used = transform_txt(\"sm_text_sentiment_training.txt\", 20)\n",
    "print(df_used)"
   ]
  },
  {
   "cell_type": "code",
   "execution_count": 9,
   "metadata": {},
   "outputs": [],
   "source": [
    "def add_examples(gpt_instance, df_used, n): # n is the number of Example instances to \"train\" GPT-3 on\n",
    "    df_subset = df_used.groupby('Sentiment_class_label').head(n).reset_index(drop = True)\n",
    "    for row in range(df_subset.shape[0]):\n",
    "        gpt_instance.add_example(Example(df_subset['Phrase_text'][row], df_subset['Sentiment_class_label'][row]))\n",
    "    return gpt_instance"
   ]
  },
  {
   "cell_type": "code",
   "execution_count": 10,
   "metadata": {},
   "outputs": [],
   "source": [
    "gpt = add_examples(gpt, df_used, 3)"
   ]
  },
  {
   "cell_type": "code",
   "execution_count": 11,
   "metadata": {},
   "outputs": [],
   "source": [
    "# A function to write prompt into GPT-3 API:\n",
    "def write_prompts(df_used, gpt_instance):\n",
    "    df_used['gpt_output'] = df_used[\"Phrase_text\"].apply(lambda x: gpt_instance.submit_request(x).choices[0].text.replace(\"output (positive/neutral/negative):\", \"\").strip(\"\\n\"))\n",
    "    df_used['matched'] = np.where(df_used['Sentiment_class_label'] == df_used['gpt_output'], 1, 0)\n",
    "    # dropping Sentiment_class_label column\n",
    "    df_used.drop(['Sentiment_class_label'], axis = 1)\n",
    "    return df_used\n",
    "    \n",
    "    \n"
   ]
  },
  {
   "cell_type": "code",
   "execution_count": 12,
   "metadata": {},
   "outputs": [],
   "source": [
    "out_df = write_prompts(df_used, gpt)"
   ]
  },
  {
   "cell_type": "code",
   "execution_count": 13,
   "metadata": {},
   "outputs": [
    {
     "output_type": "stream",
     "name": "stdout",
     "text": [
      "   Sentiment_class_label                                        Phrase_text  \\\n0               positive                   “kindness and compassion” [NAME]   \n1               positive  “That’s also cute” I say as I look at the 5k i...   \n2               positive  “I have no experience being mean” is probably ...   \n3               positive  “I am on the verge of exploding in my pants” “...   \n4               positive                                “Enjoy your dinner”   \n5               positive  “But [NAME] helped the Browns win more games t...   \n6               positive                                               zeal   \n7               positive                                           youthful   \n8               positive                               youre awesome buddy!   \n9               positive                            your voice is beautiful   \n10              positive                            your vehicle is pretty!   \n11              positive                                     your beautiful   \n12              positive                                    you're very fun   \n13              positive                                    you're so smart   \n14              positive                                    you're so funny   \n15              positive                           you're so down to earth.   \n16              positive                                       you're smart   \n17              positive  you're pretty much amazing. your music is craz...   \n18              positive                   you're personality is so bubbly.   \n19              positive                        you're perfectly imperfect.   \n20               neutral  “Tonight” begins as an earnest hymn, with Elto...   \n21               neutral  “My Own Dance” sums up where Kesha’s head is a...   \n22               neutral            “Legal” and “real” are different words.   \n23               neutral  “Honey” is a little laid-back guitar R&B in th...   \n24               neutral  “An eye for an eye” Proceeds to take 2 things ...   \n25               neutral                                               £141   \n26               neutral                                               zoom   \n27               neutral                                       your joke is   \n28               neutral          your bank account is now fully functional   \n29               neutral                                     your Neighbour   \n30               neutral                                             you? x   \n31               neutral  you're supposed to wait for the punchline of a...   \n32               neutral                       you're onnnn. talk sistahhh.   \n33               neutral                                   you're dead mate   \n34               neutral  you'd think more shows would use music from th...   \n35               neutral                         you win the internet today   \n36               neutral  you want to call me like another half an hour ...   \n37               neutral                                 you owe us 100 nzd   \n38               neutral                              you might to LOCATION   \n39               neutral                                      you me at sk2   \n40              negative  “Inside sources” really don’t help the story e...   \n41              negative          АliExpress bullsнit liar and fake seller!   \n42              negative                                             zombie   \n43              negative                                                zap   \n44              negative                                   yup, very scared   \n45              negative                                         yup, upset   \n46              negative  yup - he threw [NAME] under the bus with no guilt   \n47              negative                                              yucky   \n48              negative              your mom looks like a gigantic banana   \n49              negative  your engaging comversations sound more like sc...   \n50              negative           your are just as dumb as your dumb voice   \n51              negative  you've showed me a happy dog but now it's a sa...   \n52              negative  you're the reason this country has to put dire...   \n53              negative        you're taking a long time which is annoying   \n54              negative                                      you're stupid   \n55              negative  you're sort of also worried about the danger o...   \n56              negative        you're sorry I think hey hey do you hear me   \n57              negative                                     you're so rude   \n58              negative                                you're simply crap.   \n59              negative                                 you're pretty ugly   \n\n   gpt_output  matched  \n0    positive        1  \n1    positive        1  \n2    positive        1  \n3    positive        1  \n4    positive        1  \n5    negative        0  \n6    negative        0  \n7    positive        1  \n8    positive        1  \n9    positive        1  \n10   positive        1  \n11   negative        0  \n12   positive        1  \n13   positive        1  \n14   positive        1  \n15   positive        1  \n16   positive        1  \n17   positive        1  \n18   positive        1  \n19   positive        1  \n20    neutral        1  \n21    neutral        1  \n22                   0  \n23    neutral        1  \n24   negative        0  \n25   negative        0  \n26    neutral        1  \n27    neutral        1  \n28   negative        0  \n29   negative        0  \n30    neutral        1  \n31   negative        0  \n32   negative        0  \n33   negative        0  \n34    neutral        1  \n35   positive        0  \n36   negative        0  \n37   negative        0  \n38   negative        0  \n39   negative        0  \n40   negative        1  \n41   negative        1  \n42   negative        1  \n43   negative        1  \n44   positive        0  \n45   negative        1  \n46    neutral        0  \n47   negative        1  \n48   negative        1  \n49    neutral        0  \n50   negative        1  \n51   negative        1  \n52   negative        1  \n53   negative        1  \n54   negative        1  \n55   negative        1  \n56   negative        1  \n57   negative        1  \n58   negative        1  \n59   negative        1  \n"
     ]
    }
   ],
   "source": [
    "print(out_df)"
   ]
  },
  {
   "cell_type": "code",
   "execution_count": 14,
   "metadata": {},
   "outputs": [],
   "source": [
    "out_df.drop(\"Sentiment_class_label\", axis = 1, inplace = True)"
   ]
  },
  {
   "cell_type": "code",
   "execution_count": 15,
   "metadata": {},
   "outputs": [
    {
     "output_type": "stream",
     "name": "stdout",
     "text": [
      "68.33333333333333\n"
     ]
    }
   ],
   "source": [
    "accuracy = ((np.sum(out_df['matched'])) / (out_df.shape[0])) * 100\n",
    "print(accuracy)"
   ]
  },
  {
   "cell_type": "code",
   "execution_count": null,
   "metadata": {},
   "outputs": [],
   "source": []
  }
 ]
}